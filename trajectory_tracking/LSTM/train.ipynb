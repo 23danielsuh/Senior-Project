{
 "cells": [
  {
   "cell_type": "code",
   "execution_count": 14,
   "metadata": {},
   "outputs": [],
   "source": [
    "# Data manipulation\n",
    "# ==============================================================================\n",
    "import warnings\n",
    "from skforecast.utils import load_forecaster\n",
    "from skforecast.utils import save_forecaster\n",
    "from skforecast.model_selection import backtesting_forecaster\n",
    "from skforecast.model_selection import grid_search_forecaster\n",
    "from skforecast.ForecasterAutoregDirect import ForecasterAutoregDirect\n",
    "from skforecast.ForecasterAutoregCustom import ForecasterAutoregCustom\n",
    "from skforecast.ForecasterAutoreg import ForecasterAutoreg\n",
    "from sklearn.pipeline import make_pipeline\n",
    "from sklearn.preprocessing import StandardScaler\n",
    "from sklearn.metrics import mean_squared_error\n",
    "from sklearn.ensemble import RandomForestRegressor\n",
    "from sklearn.linear_model import Lasso\n",
    "from sklearn.linear_model import LinearRegression\n",
    "import numpy as np\n",
    "import pandas as pd\n",
    "\n",
    "# Plots\n",
    "# ==============================================================================\n",
    "import matplotlib.pyplot as plt\n",
    "plt.style.use('fivethirtyeight')\n",
    "plt.rcParams['lines.linewidth'] = 1.5\n",
    "%matplotlib inline\n",
    "\n",
    "# Modeling and Forecasting\n",
    "# ==============================================================================\n",
    "\n",
    "\n",
    "# Warnings configuration\n",
    "# ==============================================================================\n",
    "# warnings.filterwarnings('ignore')"
   ]
  },
  {
   "cell_type": "code",
   "execution_count": 15,
   "metadata": {},
   "outputs": [],
   "source": [
    "data = np.load('dataset.npy', allow_pickle=True)"
   ]
  },
  {
   "cell_type": "code",
   "execution_count": 31,
   "metadata": {},
   "outputs": [
    {
     "name": "stdout",
     "output_type": "stream",
     "text": [
      "[298.0, 298.0, 288.0, 288.0, 277.0, 277.0, 267.0, 267.0, 256.0, 256.0, 246.0, 246.0, 234.0, 225.0, 225.0, 213.0, 213.0, 201.0, 201.0, 189.0, 176.0, 176.0, 161.0, 161.0, 144.0, 144.0, 316.0, 316.0, 305.0, 296.0, 296.0, 287.0, 287.0, 279.0, 279.0, 272.0, 272.0, 264.0, 264.0, 256.0, 256.0, 247.0, 247.0, 238.0, 229.0, 229.0, 220.0, 220.0, 211.0, 211.0, 199.0, 199.0, 187.0, 187.0, 300.0, 300.0, 292.0, 292.0, 279.0, 266.0, 266.0, 254.0, 254.0, 242.0, 242.0, 230.0, 230.0, 218.0, 218.0, 206.0, 206.0, 195.0, 195.0, 182.0, 182.0, 168.0, 155.0, 155.0, 138.0, 138.0, 118.0, 118.0, 292.0, 292.0, 283.0, 283.0, 272.0, 272.0, 261.0, 248.0, 248.0, 236.0, 236.0, 223.0, 223.0, 211.0, 211.0, 196.0, 196.0, 181.0, 181.0, 169.0, 169.0, 153.0, 153.0, 136.0, 136.0, 116.0, 116.0, 279.0, 279.0, 277.0, 277.0, 271.0, 271.0, 259.0, 259.0, 247.0, 247.0, 236.0, 236.0, 224.0, 211.0, 211.0, 200.0, 200.0, 186.0, 186.0, 172.0, 172.0, 156.0, 156.0, 139.0, 139.0, 261.0, 261.0, 257.0, 257.0, 245.0, 245.0, 232.0, 232.0, 218.0, 218.0, 206.0, 206.0, 195.0, 195.0, 182.0, 182.0, 170.0, 170.0, 157.0, 157.0, 143.0, 126.0, 126.0, 109.0, 109.0, 89.0, 89.0, 281.0, 281.0, 281.0, 271.0, 271.0, 260.0, 260.0, 247.0, 236.0, 236.0, 225.0, 225.0, 212.0, 212.0, 199.0, 199.0, 186.0, 186.0, 172.0, 172.0, 156.0, 156.0, 139.0, 139.0, 119.0, 285.0, 285.0, 276.0, 276.0, 265.0, 265.0, 253.0, 253.0, 242.0, 242.0, 230.0, 230.0, 219.0, 207.0, 207.0, 195.0, 195.0, 182.0, 182.0, 169.0, 169.0, 155.0, 155.0, 139.0, 139.0, 120.0, 120.0, 255.0, 255.0, 248.0, 248.0, 237.0, 237.0, 226.0, 226.0, 215.0, 215.0, 205.0, 205.0, 193.0, 193.0, 182.0, 182.0, 169.0, 155.0, 155.0, 155.0, 141.0, 123.0, 123.0, 105.0, 105.0, 276.0, 276.0, 267.0, 267.0, 258.0, 258.0, 248.0, 248.0, 237.0, 237.0, 226.0, 226.0, 216.0, 216.0, 206.0, 206.0, 195.0, 195.0, 183.0, 183.0, 171.0, 158.0, 158.0, 146.0, 146.0, 132.0, 132.0, 276.0, 276.0, 279.0, 279.0, 270.0, 270.0, 260.0, 260.0, 252.0, 246.0, 246.0, 237.0, 237.0, 229.0, 229.0, 221.0, 221.0, 213.0, 213.0, 205.0, 205.0, 196.0, 196.0, 187.0, 187.0, 179.0, 179.0, 168.0, 168.0, 279.0, 279.0, 266.0, 266.0, 253.0, 240.0, 240.0, 227.0, 227.0, 211.0, 211.0, 199.0, 199.0, 186.0, 186.0, 172.0, 172.0, 156.0, 156.0, 139.0, 139.0, 119.0, 94.0, 94.0, 68.0, 68.0, 276.0, 276.0, 273.0, 273.0, 265.0, 265.0, 255.0, 255.0, 244.0, 244.0, 234.0, 234.0, 225.0, 214.0, 214.0, 204.0, 204.0, 204.0, 193.0, 181.0, 181.0, 168.0, 168.0, 156.0, 156.0, 140.0, 140.0, 274.0, 274.0, 274.0, 264.0, 264.0, 252.0, 252.0, 241.0, 241.0, 230.0, 230.0, 218.0, 218.0, 207.0, 207.0, 194.0, 194.0, 181.0, 181.0, 167.0, 167.0, 152.0, 152.0, 134.0, 113.0, 113.0, 307.0, 307.0, 295.0, 295.0, 283.0, 283.0, 268.0, 268.0, 253.0, 253.0, 237.0, 237.0, 221.0, 221.0, 207.0, 207.0, 191.0, 175.0, 175.0, 175.0, 158.0, 158.0, 139.0, 118.0, 118.0, 93.0, 93.0, 67.0, 67.0, 308.0, 308.0, 301.0, 301.0, 292.0, 292.0, 280.0, 269.0, 269.0, 258.0, 258.0, 248.0, 248.0, 236.0, 236.0, 226.0, 226.0, 214.0, 214.0, 201.0, 201.0, 189.0, 189.0, 176.0, 176.0, 162.0, 162.0, 145.0, 145.0, 311.0, 311.0, 301.0, 301.0, 289.0, 289.0, 276.0, 276.0, 265.0, 265.0, 256.0, 256.0, 250.0, 220.0, 220.0, 213.0, 213.0, 213.0, 202.0, 188.0, 188.0, 176.0, 176.0, 162.0, 162.0, 149.0, 149.0, 131.0, 131.0, 117.0, 117.0]\n"
     ]
    }
   ],
   "source": [
    "data_x = []\n",
    "data_y = []\n",
    "for i in data:\n",
    "    for j in i:\n",
    "        data_x.append(j[0])\n",
    "        data_y.append(j[1])\n",
    "print(data_x)"
   ]
  },
  {
   "cell_type": "code",
   "execution_count": 23,
   "metadata": {},
   "outputs": [],
   "source": [
    "forecaster_x = ForecasterAutoreg(\n",
    "                regressor = RandomForestRegressor(random_state=123),\n",
    "                lags      = 5\n",
    "             )\n",
    "forecaster_y = ForecasterAutoreg(\n",
    "                regressor = RandomForestRegressor(random_state=123),\n",
    "                lags      = 5\n",
    "             )\n",
    "\n",
    "for i in data:\n",
    "    cur = pd.Series(i[:, 0])\n",
    "    forecaster_x.fit(y=cur)\n",
    "    cur = pd.Series(i[:, 1])\n",
    "    forecaster_y.fit(y=cur)"
   ]
  },
  {
   "cell_type": "code",
   "execution_count": 25,
   "metadata": {},
   "outputs": [
    {
     "name": "stdout",
     "output_type": "stream",
     "text": [
      "31    323.32\n",
      "32    323.32\n",
      "33    323.32\n",
      "34    323.32\n",
      "35    323.32\n",
      "36    323.32\n",
      "37    323.32\n",
      "38    323.32\n",
      "39    323.32\n",
      "40    323.32\n",
      "41    323.32\n",
      "42    323.32\n",
      "43    323.32\n",
      "44    323.32\n",
      "45    323.32\n",
      "46    323.32\n",
      "47    323.32\n",
      "48    323.32\n",
      "49    323.32\n",
      "50    323.32\n",
      "51    323.32\n",
      "52    323.32\n",
      "53    323.32\n",
      "54    323.32\n",
      "55    323.32\n",
      "Name: pred, dtype: float64\n"
     ]
    }
   ],
   "source": [
    "predictions = forecaster_y.predict(steps=25)\n",
    "print(predictions)"
   ]
  }
 ],
 "metadata": {
  "kernelspec": {
   "display_name": "base",
   "language": "python",
   "name": "python3"
  },
  "language_info": {
   "codemirror_mode": {
    "name": "ipython",
    "version": 3
   },
   "file_extension": ".py",
   "mimetype": "text/x-python",
   "name": "python",
   "nbconvert_exporter": "python",
   "pygments_lexer": "ipython3",
   "version": "3.10.6"
  },
  "orig_nbformat": 4,
  "vscode": {
   "interpreter": {
    "hash": "c6e4e9f98eb68ad3b7c296f83d20e6de614cb42e90992a65aa266555a3137d0d"
   }
  }
 },
 "nbformat": 4,
 "nbformat_minor": 2
}
